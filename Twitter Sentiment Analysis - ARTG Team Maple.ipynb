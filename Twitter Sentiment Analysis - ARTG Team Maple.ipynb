{
 "cells": [
  {
   "cell_type": "markdown",
   "metadata": {},
   "source": [
    "# Twitter Sentiment Analysis "
   ]
  },
  {
   "cell_type": "markdown",
   "metadata": {},
   "source": [
    "# ARTG Project - By Team Maple"
   ]
  },
  {
   "cell_type": "markdown",
   "metadata": {},
   "source": [
    "**<font color=\"blue\">Import libraries</font>**  \n",
    "\n",
    "**<font color=\"red\">Code:</font>**"
   ]
  },
  {
   "cell_type": "code",
   "execution_count": 84,
   "metadata": {},
   "outputs": [
    {
     "name": "stdout",
     "output_type": "stream",
     "text": [
      "Collecting package metadata (current_repodata.json): ...working... done\n",
      "Solving environment: ...working... done\n",
      "\n",
      "## Package Plan ##\n",
      "\n",
      "  environment location: C:\\Users\\prakh\\anaconda3\n",
      "\n",
      "  added / updated specs:\n",
      "    - tweepy\n",
      "\n",
      "\n",
      "The following packages will be downloaded:\n",
      "\n",
      "    package                    |            build\n",
      "    ---------------------------|-----------------\n",
      "    blinker-1.4                |             py_1          13 KB  conda-forge\n",
      "    conda-4.8.3                |   py37hc8dfbb8_1         3.1 MB  conda-forge\n",
      "    oauthlib-3.0.1             |             py_0          82 KB  conda-forge\n",
      "    pyjwt-1.7.1                |             py_0          17 KB  conda-forge\n",
      "    python_abi-3.7             |          1_cp37m           4 KB  conda-forge\n",
      "    requests-oauthlib-1.2.0    |             py_0          19 KB  conda-forge\n",
      "    tweepy-3.9.0               |     pyh9f0ad1d_0          28 KB  conda-forge\n",
      "    ------------------------------------------------------------\n",
      "                                           Total:         3.2 MB\n",
      "\n",
      "The following NEW packages will be INSTALLED:\n",
      "\n",
      "  blinker            conda-forge/noarch::blinker-1.4-py_1\n",
      "  oauthlib           conda-forge/noarch::oauthlib-3.0.1-py_0\n",
      "  pyjwt              conda-forge/noarch::pyjwt-1.7.1-py_0\n",
      "  python_abi         conda-forge/win-64::python_abi-3.7-1_cp37m\n",
      "  requests-oauthlib  conda-forge/noarch::requests-oauthlib-1.2.0-py_0\n",
      "  tweepy             conda-forge/noarch::tweepy-3.9.0-pyh9f0ad1d_0\n",
      "\n",
      "The following packages will be UPDATED:\n",
      "\n",
      "  conda                       pkgs/main::conda-4.8.3-py37_0 --> conda-forge::conda-4.8.3-py37hc8dfbb8_1\n",
      "\n",
      "\n",
      "\n",
      "Downloading and Extracting Packages\n",
      "\n",
      "oauthlib-3.0.1       | 82 KB     |            |   0% \n",
      "oauthlib-3.0.1       | 82 KB     | #####8     |  58% \n",
      "oauthlib-3.0.1       | 82 KB     | ########## | 100% \n",
      "\n",
      "pyjwt-1.7.1          | 17 KB     |            |   0% \n",
      "pyjwt-1.7.1          | 17 KB     | ########## | 100% \n",
      "\n",
      "conda-4.8.3          | 3.1 MB    |            |   0% \n",
      "conda-4.8.3          | 3.1 MB    | 1          |   2% \n",
      "conda-4.8.3          | 3.1 MB    | 7          |   7% \n",
      "conda-4.8.3          | 3.1 MB    | #4         |  15% \n",
      "conda-4.8.3          | 3.1 MB    | ##2        |  23% \n",
      "conda-4.8.3          | 3.1 MB    | ###1       |  31% \n",
      "conda-4.8.3          | 3.1 MB    | ###6       |  37% \n",
      "conda-4.8.3          | 3.1 MB    | ####4      |  45% \n",
      "conda-4.8.3          | 3.1 MB    | #####2     |  53% \n",
      "conda-4.8.3          | 3.1 MB    | ######4    |  64% \n",
      "conda-4.8.3          | 3.1 MB    | #######6   |  76% \n",
      "conda-4.8.3          | 3.1 MB    | ########7  |  87% \n",
      "conda-4.8.3          | 3.1 MB    | #########9 | 100% \n",
      "conda-4.8.3          | 3.1 MB    | ########## | 100% \n",
      "\n",
      "tweepy-3.9.0         | 28 KB     |            |   0% \n",
      "tweepy-3.9.0         | 28 KB     | ########## | 100% \n",
      "\n",
      "requests-oauthlib-1. | 19 KB     |            |   0% \n",
      "requests-oauthlib-1. | 19 KB     | ########## | 100% \n",
      "\n",
      "python_abi-3.7       | 4 KB      |            |   0% \n",
      "python_abi-3.7       | 4 KB      | ########## | 100% \n",
      "\n",
      "blinker-1.4          | 13 KB     |            |   0% \n",
      "blinker-1.4          | 13 KB     | ########## | 100% \n",
      "Preparing transaction: ...working... done\n",
      "Verifying transaction: ...working... done\n",
      "Executing transaction: ...working... done\n"
     ]
    }
   ],
   "source": [
    "import csv\n",
    "import sys\n",
    "!conda install --yes --prefix {sys.prefix} -c conda-forge tweepy\n",
    "import tweepy"
   ]
  },
  {
   "cell_type": "markdown",
   "metadata": {},
   "source": [
    "**<font color=\"blue\">Step 1: Twitter crawl & downloading data</font>**  \n",
    "\n",
    "**<font color=\"red\">Code:</font>**"
   ]
  },
  {
   "cell_type": "code",
   "execution_count": null,
   "metadata": {},
   "outputs": [],
   "source": [
    "consumer_key = 'kmflAhDlFLYvVLzUhUTv5Agbw'\n",
    "consumer_secret = 'D8Giq3GMjIMaBQN0Qw63tsoHpajA7hNKy2ouo1XeqQP46SP38C'\n",
    "access_token = '4266439228-U0ySetwuTNEtz3ZGdyPWKVrfIGKY866EMIrzNbN'\n",
    "access_token_secret = 'CVynCeCX22NtK8iygTHGWjota2JhGTfPgk2CO1MUnPfBK'\n",
    "\n",
    "auth = tweepy.OAuthHandler(consumer_key, consumer_secret)\n",
    "auth.set_access_token(access_token, access_token_secret)\n",
    "api = tweepy.API(auth, wait_on_rate_limit=True, timeout=1000)"
   ]
  },
  {
   "cell_type": "code",
   "execution_count": null,
   "metadata": {},
   "outputs": [],
   "source": [
    "# Open/create a file to append data to\n",
    "csvFile = open('testgf.csv', 'a')"
   ]
  },
  {
   "cell_type": "code",
   "execution_count": null,
   "metadata": {},
   "outputs": [],
   "source": [
    "# Used csv writer\n",
    "csvWriter = csv.writer(csvFile)"
   ]
  },
  {
   "cell_type": "code",
   "execution_count": null,
   "metadata": {},
   "outputs": [],
   "source": [
    "for tweet in tweepy.Cursor(api.search,\n",
    "                           q=\"#blacklivesmatter\",\n",
    "                           # Data only available for last 7 days. We mined tweets for 4 days - 24,25,26,27 June\n",
    "                           since=\"2020-06-24\",\n",
    "                           # Until 28 means  <28 i.e. <=27\n",
    "                           until=\"2020-06-28\",\n",
    "                           lang=\"en\",\n",
    "                           count=100).items():\n",
    "    # Write a row to the CSV file. We used encode UTF-8\n",
    "    csvWriter.writerow([tweet.created_at, tweet.text.encode('utf-8')])\n",
    "    print(tweet.created_at, tweet.text)\n",
    "csvFile.close()"
   ]
  },
  {
   "cell_type": "markdown",
   "metadata": {},
   "source": [
    "**<font color=\"blue\">Step 2: Preprocessing the raw dump. Cleaning the tweets for NLP</font>**  \n",
    "\n",
    "**<font color=\"red\">Code:</font>**"
   ]
  },
  {
   "cell_type": "code",
   "execution_count": 82,
   "metadata": {},
   "outputs": [],
   "source": [
    "import sqlite3\n",
    "import pandas as pd\n",
    "#!conda install tweet-preprocessor\n",
    "import preprocessor as p\n",
    "#!conda install gensim\n",
    "from gensim.parsing.preprocessing import remove_stopwords"
   ]
  },
  {
   "cell_type": "code",
   "execution_count": 69,
   "metadata": {},
   "outputs": [],
   "source": [
    "# Read the raw tweets mined\n",
    "raw_twts = pd.read_csv('testgf.csv', header=None)"
   ]
  },
  {
   "cell_type": "code",
   "execution_count": 70,
   "metadata": {},
   "outputs": [],
   "source": [
    "# Name the columns\n",
    "raw_twts.columns = ['datetime', 'tweet']"
   ]
  },
  {
   "cell_type": "code",
   "execution_count": 71,
   "metadata": {},
   "outputs": [],
   "source": [
    "# Insert a new ID column\n",
    "raw_twts.insert(loc=0, column='id', value=1)"
   ]
  },
  {
   "cell_type": "code",
   "execution_count": 72,
   "metadata": {},
   "outputs": [],
   "source": [
    "# Assign unique vaues to id column for each row \n",
    "raw_twts[\"id\"] = raw_twts.index + 1000000"
   ]
  },
  {
   "cell_type": "code",
   "execution_count": 61,
   "metadata": {
    "collapsed": true
   },
   "outputs": [
    {
     "data": {
      "text/html": [
       "<div>\n",
       "<style scoped>\n",
       "    .dataframe tbody tr th:only-of-type {\n",
       "        vertical-align: middle;\n",
       "    }\n",
       "\n",
       "    .dataframe tbody tr th {\n",
       "        vertical-align: top;\n",
       "    }\n",
       "\n",
       "    .dataframe thead th {\n",
       "        text-align: right;\n",
       "    }\n",
       "</style>\n",
       "<table border=\"1\" class=\"dataframe\">\n",
       "  <thead>\n",
       "    <tr style=\"text-align: right;\">\n",
       "      <th></th>\n",
       "      <th>id</th>\n",
       "      <th>datetime</th>\n",
       "      <th>tweet</th>\n",
       "    </tr>\n",
       "  </thead>\n",
       "  <tbody>\n",
       "    <tr>\n",
       "      <th>0</th>\n",
       "      <td>1000000</td>\n",
       "      <td>6/27/2020 23:59</td>\n",
       "      <td>b\"RT @KashJackson2018: @RealCandaceO Please he...</td>\n",
       "    </tr>\n",
       "    <tr>\n",
       "      <th>1</th>\n",
       "      <td>1000001</td>\n",
       "      <td>NaN</td>\n",
       "      <td>NaN</td>\n",
       "    </tr>\n",
       "    <tr>\n",
       "      <th>2</th>\n",
       "      <td>1000002</td>\n",
       "      <td>6/27/2020 23:59</td>\n",
       "      <td>b\"RT @AndyLunique: Hi. It's not over. Don't le...</td>\n",
       "    </tr>\n",
       "    <tr>\n",
       "      <th>3</th>\n",
       "      <td>1000003</td>\n",
       "      <td>NaN</td>\n",
       "      <td>NaN</td>\n",
       "    </tr>\n",
       "    <tr>\n",
       "      <th>4</th>\n",
       "      <td>1000004</td>\n",
       "      <td>6/27/2020 23:59</td>\n",
       "      <td>b\"RT @AndyLunique: Hi. It's not over. Don't le...</td>\n",
       "    </tr>\n",
       "  </tbody>\n",
       "</table>\n",
       "</div>"
      ],
      "text/plain": [
       "        id         datetime                                              tweet\n",
       "0  1000000  6/27/2020 23:59  b\"RT @KashJackson2018: @RealCandaceO Please he...\n",
       "1  1000001              NaN                                                NaN\n",
       "2  1000002  6/27/2020 23:59  b\"RT @AndyLunique: Hi. It's not over. Don't le...\n",
       "3  1000003              NaN                                                NaN\n",
       "4  1000004  6/27/2020 23:59  b\"RT @AndyLunique: Hi. It's not over. Don't le..."
      ]
     },
     "execution_count": 61,
     "metadata": {},
     "output_type": "execute_result"
    }
   ],
   "source": [
    "raw_twts.head()"
   ]
  },
  {
   "cell_type": "code",
   "execution_count": 73,
   "metadata": {},
   "outputs": [],
   "source": [
    "# Dropping duplicates and NaN from the dataframe\n",
    "raw_twts = raw_twts.dropna()\n",
    "raw_twts = raw_twts.drop_duplicates(subset='tweet', keep='first')"
   ]
  },
  {
   "cell_type": "code",
   "execution_count": 63,
   "metadata": {
    "scrolled": true
   },
   "outputs": [
    {
     "data": {
      "text/html": [
       "<div>\n",
       "<style scoped>\n",
       "    .dataframe tbody tr th:only-of-type {\n",
       "        vertical-align: middle;\n",
       "    }\n",
       "\n",
       "    .dataframe tbody tr th {\n",
       "        vertical-align: top;\n",
       "    }\n",
       "\n",
       "    .dataframe thead th {\n",
       "        text-align: right;\n",
       "    }\n",
       "</style>\n",
       "<table border=\"1\" class=\"dataframe\">\n",
       "  <thead>\n",
       "    <tr style=\"text-align: right;\">\n",
       "      <th></th>\n",
       "      <th>id</th>\n",
       "      <th>datetime</th>\n",
       "      <th>tweet</th>\n",
       "    </tr>\n",
       "  </thead>\n",
       "  <tbody>\n",
       "    <tr>\n",
       "      <th>0</th>\n",
       "      <td>1000000</td>\n",
       "      <td>6/27/2020 23:59</td>\n",
       "      <td>b\"RT @KashJackson2018: @RealCandaceO Please he...</td>\n",
       "    </tr>\n",
       "    <tr>\n",
       "      <th>2</th>\n",
       "      <td>1000002</td>\n",
       "      <td>6/27/2020 23:59</td>\n",
       "      <td>b\"RT @AndyLunique: Hi. It's not over. Don't le...</td>\n",
       "    </tr>\n",
       "    <tr>\n",
       "      <th>6</th>\n",
       "      <td>1000006</td>\n",
       "      <td>6/27/2020 23:59</td>\n",
       "      <td>b\"RT @Selena_Adera: Stop treating our communit...</td>\n",
       "    </tr>\n",
       "    <tr>\n",
       "      <th>8</th>\n",
       "      <td>1000008</td>\n",
       "      <td>6/27/2020 23:59</td>\n",
       "      <td>b'RT @DeAnna4Congress: Only 17% of the #BlackL...</td>\n",
       "    </tr>\n",
       "    <tr>\n",
       "      <th>10</th>\n",
       "      <td>1000010</td>\n",
       "      <td>6/27/2020 23:59</td>\n",
       "      <td>b'RT @Hoosiers1986: Rational people have alway...</td>\n",
       "    </tr>\n",
       "  </tbody>\n",
       "</table>\n",
       "</div>"
      ],
      "text/plain": [
       "         id         datetime  \\\n",
       "0   1000000  6/27/2020 23:59   \n",
       "2   1000002  6/27/2020 23:59   \n",
       "6   1000006  6/27/2020 23:59   \n",
       "8   1000008  6/27/2020 23:59   \n",
       "10  1000010  6/27/2020 23:59   \n",
       "\n",
       "                                                tweet  \n",
       "0   b\"RT @KashJackson2018: @RealCandaceO Please he...  \n",
       "2   b\"RT @AndyLunique: Hi. It's not over. Don't le...  \n",
       "6   b\"RT @Selena_Adera: Stop treating our communit...  \n",
       "8   b'RT @DeAnna4Congress: Only 17% of the #BlackL...  \n",
       "10  b'RT @Hoosiers1986: Rational people have alway...  "
      ]
     },
     "execution_count": 63,
     "metadata": {},
     "output_type": "execute_result"
    }
   ],
   "source": [
    "raw_twts.head()"
   ]
  },
  {
   "cell_type": "code",
   "execution_count": 105,
   "metadata": {},
   "outputs": [],
   "source": [
    "raw_twts.to_csv ('raw_twts.csv', index = False, header=True)"
   ]
  },
  {
   "cell_type": "code",
   "execution_count": 91,
   "metadata": {},
   "outputs": [
    {
     "data": {
      "text/html": [
       "<div>\n",
       "<style scoped>\n",
       "    .dataframe tbody tr th:only-of-type {\n",
       "        vertical-align: middle;\n",
       "    }\n",
       "\n",
       "    .dataframe tbody tr th {\n",
       "        vertical-align: top;\n",
       "    }\n",
       "\n",
       "    .dataframe thead th {\n",
       "        text-align: right;\n",
       "    }\n",
       "</style>\n",
       "<table border=\"1\" class=\"dataframe\">\n",
       "  <thead>\n",
       "    <tr style=\"text-align: right;\">\n",
       "      <th></th>\n",
       "      <th>id</th>\n",
       "      <th>datetime</th>\n",
       "      <th>tweet</th>\n",
       "    </tr>\n",
       "  </thead>\n",
       "  <tbody>\n",
       "    <tr>\n",
       "      <th>0</th>\n",
       "      <td>1000000</td>\n",
       "      <td>6/27/2020 23:59</td>\n",
       "      <td>b\"RT @KashJackson2018: @RealCandaceO Please he...</td>\n",
       "    </tr>\n",
       "    <tr>\n",
       "      <th>2</th>\n",
       "      <td>1000002</td>\n",
       "      <td>6/27/2020 23:59</td>\n",
       "      <td>b\"RT @AndyLunique: Hi. It's not over. Don't le...</td>\n",
       "    </tr>\n",
       "    <tr>\n",
       "      <th>6</th>\n",
       "      <td>1000006</td>\n",
       "      <td>6/27/2020 23:59</td>\n",
       "      <td>b\"RT @Selena_Adera: Stop treating our communit...</td>\n",
       "    </tr>\n",
       "    <tr>\n",
       "      <th>8</th>\n",
       "      <td>1000008</td>\n",
       "      <td>6/27/2020 23:59</td>\n",
       "      <td>b'RT @DeAnna4Congress: Only 17% of the #BlackL...</td>\n",
       "    </tr>\n",
       "    <tr>\n",
       "      <th>10</th>\n",
       "      <td>1000010</td>\n",
       "      <td>6/27/2020 23:59</td>\n",
       "      <td>b'RT @Hoosiers1986: Rational people have alway...</td>\n",
       "    </tr>\n",
       "  </tbody>\n",
       "</table>\n",
       "</div>"
      ],
      "text/plain": [
       "         id         datetime  \\\n",
       "0   1000000  6/27/2020 23:59   \n",
       "2   1000002  6/27/2020 23:59   \n",
       "6   1000006  6/27/2020 23:59   \n",
       "8   1000008  6/27/2020 23:59   \n",
       "10  1000010  6/27/2020 23:59   \n",
       "\n",
       "                                                tweet  \n",
       "0   b\"RT @KashJackson2018: @RealCandaceO Please he...  \n",
       "2   b\"RT @AndyLunique: Hi. It's not over. Don't le...  \n",
       "6   b\"RT @Selena_Adera: Stop treating our communit...  \n",
       "8   b'RT @DeAnna4Congress: Only 17% of the #BlackL...  \n",
       "10  b'RT @Hoosiers1986: Rational people have alway...  "
      ]
     },
     "execution_count": 91,
     "metadata": {},
     "output_type": "execute_result"
    }
   ],
   "source": [
    "raw_twts.head()"
   ]
  },
  {
   "cell_type": "code",
   "execution_count": 106,
   "metadata": {},
   "outputs": [
    {
     "data": {
      "text/plain": [
       "id          98907\n",
       "datetime    98907\n",
       "tweet       98907\n",
       "dtype: int64"
      ]
     },
     "execution_count": 106,
     "metadata": {},
     "output_type": "execute_result"
    }
   ],
   "source": [
    "clean_twts = pd.read_csv('raw_twts.csv')\n",
    "clean_twts.count()"
   ]
  },
  {
   "cell_type": "code",
   "execution_count": 107,
   "metadata": {},
   "outputs": [
    {
     "data": {
      "text/html": [
       "<div>\n",
       "<style scoped>\n",
       "    .dataframe tbody tr th:only-of-type {\n",
       "        vertical-align: middle;\n",
       "    }\n",
       "\n",
       "    .dataframe tbody tr th {\n",
       "        vertical-align: top;\n",
       "    }\n",
       "\n",
       "    .dataframe thead th {\n",
       "        text-align: right;\n",
       "    }\n",
       "</style>\n",
       "<table border=\"1\" class=\"dataframe\">\n",
       "  <thead>\n",
       "    <tr style=\"text-align: right;\">\n",
       "      <th></th>\n",
       "      <th>id</th>\n",
       "      <th>datetime</th>\n",
       "      <th>tweet</th>\n",
       "    </tr>\n",
       "  </thead>\n",
       "  <tbody>\n",
       "    <tr>\n",
       "      <th>0</th>\n",
       "      <td>1000000</td>\n",
       "      <td>6/27/2020 23:59</td>\n",
       "      <td>b\"RT @KashJackson2018: @RealCandaceO Please he...</td>\n",
       "    </tr>\n",
       "    <tr>\n",
       "      <th>1</th>\n",
       "      <td>1000002</td>\n",
       "      <td>6/27/2020 23:59</td>\n",
       "      <td>b\"RT @AndyLunique: Hi. It's not over. Don't le...</td>\n",
       "    </tr>\n",
       "    <tr>\n",
       "      <th>2</th>\n",
       "      <td>1000006</td>\n",
       "      <td>6/27/2020 23:59</td>\n",
       "      <td>b\"RT @Selena_Adera: Stop treating our communit...</td>\n",
       "    </tr>\n",
       "    <tr>\n",
       "      <th>3</th>\n",
       "      <td>1000008</td>\n",
       "      <td>6/27/2020 23:59</td>\n",
       "      <td>b'RT @DeAnna4Congress: Only 17% of the #BlackL...</td>\n",
       "    </tr>\n",
       "    <tr>\n",
       "      <th>4</th>\n",
       "      <td>1000010</td>\n",
       "      <td>6/27/2020 23:59</td>\n",
       "      <td>b'RT @Hoosiers1986: Rational people have alway...</td>\n",
       "    </tr>\n",
       "  </tbody>\n",
       "</table>\n",
       "</div>"
      ],
      "text/plain": [
       "        id         datetime                                              tweet\n",
       "0  1000000  6/27/2020 23:59  b\"RT @KashJackson2018: @RealCandaceO Please he...\n",
       "1  1000002  6/27/2020 23:59  b\"RT @AndyLunique: Hi. It's not over. Don't le...\n",
       "2  1000006  6/27/2020 23:59  b\"RT @Selena_Adera: Stop treating our communit...\n",
       "3  1000008  6/27/2020 23:59  b'RT @DeAnna4Congress: Only 17% of the #BlackL...\n",
       "4  1000010  6/27/2020 23:59  b'RT @Hoosiers1986: Rational people have alway..."
      ]
     },
     "execution_count": 107,
     "metadata": {},
     "output_type": "execute_result"
    }
   ],
   "source": [
    "clean_twts.head()"
   ]
  },
  {
   "cell_type": "code",
   "execution_count": 108,
   "metadata": {},
   "outputs": [],
   "source": [
    "# Apply tweet preprocessing first using the tweet-preprocessing library.\n",
    "# Define a preprocess function and use pandas to apply it on each value of 'tweet'\n",
    "def preprocess_tweet(row):\n",
    "    tweet = row['tweet']\n",
    "    tweet = p.clean(tweet)\n",
    "    return tweet"
   ]
  },
  {
   "cell_type": "code",
   "execution_count": 109,
   "metadata": {},
   "outputs": [],
   "source": [
    "# Cleen tweets.\n",
    "clean_twts['tweet'] = clean_twts.apply(preprocess_tweet, axis=1)"
   ]
  },
  {
   "cell_type": "code",
   "execution_count": 110,
   "metadata": {},
   "outputs": [],
   "source": [
    "# Now we apply other manual tweet preprocessing\n",
    "# stop word removal\n",
    "def stopword_removal(row):\n",
    "    tweet = row['tweet']\n",
    "    tweet = remove_stopwords(tweet)\n",
    "    return tweet"
   ]
  },
  {
   "cell_type": "code",
   "execution_count": 111,
   "metadata": {},
   "outputs": [
    {
     "data": {
      "text/html": [
       "<div>\n",
       "<style scoped>\n",
       "    .dataframe tbody tr th:only-of-type {\n",
       "        vertical-align: middle;\n",
       "    }\n",
       "\n",
       "    .dataframe tbody tr th {\n",
       "        vertical-align: top;\n",
       "    }\n",
       "\n",
       "    .dataframe thead th {\n",
       "        text-align: right;\n",
       "    }\n",
       "</style>\n",
       "<table border=\"1\" class=\"dataframe\">\n",
       "  <thead>\n",
       "    <tr style=\"text-align: right;\">\n",
       "      <th></th>\n",
       "      <th>id</th>\n",
       "      <th>datetime</th>\n",
       "      <th>tweet</th>\n",
       "    </tr>\n",
       "  </thead>\n",
       "  <tbody>\n",
       "    <tr>\n",
       "      <th>0</th>\n",
       "      <td>1000000</td>\n",
       "      <td>6/27/2020 23:59</td>\n",
       "      <td>b\"RT : Please help cold blooded killer gunned ...</td>\n",
       "    </tr>\n",
       "    <tr>\n",
       "      <th>1</th>\n",
       "      <td>1000002</td>\n",
       "      <td>6/27/2020 23:59</td>\n",
       "      <td>b\"RT : Hi. It's over. Don't let over. \"</td>\n",
       "    </tr>\n",
       "    <tr>\n",
       "      <th>2</th>\n",
       "      <td>1000006</td>\n",
       "      <td>6/27/2020 23:59</td>\n",
       "      <td>b\"RT : Stop treating communities therapy rage!...</td>\n",
       "    </tr>\n",
       "    <tr>\n",
       "      <th>3</th>\n",
       "      <td>1000008</td>\n",
       "      <td>6/27/2020 23:59</td>\n",
       "      <td>b'RT : Only % protestors nationally actually b...</td>\n",
       "    </tr>\n",
       "    <tr>\n",
       "      <th>4</th>\n",
       "      <td>1000010</td>\n",
       "      <td>6/27/2020 23:59</td>\n",
       "      <td>b'RT : Rational people believed ALL LIVES MATT...</td>\n",
       "    </tr>\n",
       "  </tbody>\n",
       "</table>\n",
       "</div>"
      ],
      "text/plain": [
       "        id         datetime                                              tweet\n",
       "0  1000000  6/27/2020 23:59  b\"RT : Please help cold blooded killer gunned ...\n",
       "1  1000002  6/27/2020 23:59            b\"RT : Hi. It's over. Don't let over. \"\n",
       "2  1000006  6/27/2020 23:59  b\"RT : Stop treating communities therapy rage!...\n",
       "3  1000008  6/27/2020 23:59  b'RT : Only % protestors nationally actually b...\n",
       "4  1000010  6/27/2020 23:59  b'RT : Rational people believed ALL LIVES MATT..."
      ]
     },
     "execution_count": 111,
     "metadata": {},
     "output_type": "execute_result"
    }
   ],
   "source": [
    "clean_twts['tweet'] = clean_twts.apply(stopword_removal, axis=1)\n",
    "clean_twts.head()"
   ]
  },
  {
   "cell_type": "code",
   "execution_count": 112,
   "metadata": {},
   "outputs": [
    {
     "data": {
      "text/html": [
       "<div>\n",
       "<style scoped>\n",
       "    .dataframe tbody tr th:only-of-type {\n",
       "        vertical-align: middle;\n",
       "    }\n",
       "\n",
       "    .dataframe tbody tr th {\n",
       "        vertical-align: top;\n",
       "    }\n",
       "\n",
       "    .dataframe thead th {\n",
       "        text-align: right;\n",
       "    }\n",
       "</style>\n",
       "<table border=\"1\" class=\"dataframe\">\n",
       "  <thead>\n",
       "    <tr style=\"text-align: right;\">\n",
       "      <th></th>\n",
       "      <th>id</th>\n",
       "      <th>datetime</th>\n",
       "      <th>tweet</th>\n",
       "    </tr>\n",
       "  </thead>\n",
       "  <tbody>\n",
       "    <tr>\n",
       "      <th>0</th>\n",
       "      <td>1000000</td>\n",
       "      <td>6/27/2020 23:59</td>\n",
       "      <td>b rt please help cold blooded killer gunned ki...</td>\n",
       "    </tr>\n",
       "    <tr>\n",
       "      <th>1</th>\n",
       "      <td>1000002</td>\n",
       "      <td>6/27/2020 23:59</td>\n",
       "      <td>b rt hi it s over don t let over</td>\n",
       "    </tr>\n",
       "    <tr>\n",
       "      <th>2</th>\n",
       "      <td>1000006</td>\n",
       "      <td>6/27/2020 23:59</td>\n",
       "      <td>b rt stop treating communities therapy rage n ...</td>\n",
       "    </tr>\n",
       "    <tr>\n",
       "      <th>3</th>\n",
       "      <td>1000008</td>\n",
       "      <td>6/27/2020 23:59</td>\n",
       "      <td>b rt only protestors nationally actually black...</td>\n",
       "    </tr>\n",
       "    <tr>\n",
       "      <th>4</th>\n",
       "      <td>1000010</td>\n",
       "      <td>6/27/2020 23:59</td>\n",
       "      <td>b rt rational people believed all lives matter...</td>\n",
       "    </tr>\n",
       "  </tbody>\n",
       "</table>\n",
       "</div>"
      ],
      "text/plain": [
       "        id         datetime                                              tweet\n",
       "0  1000000  6/27/2020 23:59  b rt please help cold blooded killer gunned ki...\n",
       "1  1000002  6/27/2020 23:59                  b rt hi it s over don t let over \n",
       "2  1000006  6/27/2020 23:59  b rt stop treating communities therapy rage n ...\n",
       "3  1000008  6/27/2020 23:59  b rt only protestors nationally actually black...\n",
       "4  1000010  6/27/2020 23:59  b rt rational people believed all lives matter..."
      ]
     },
     "execution_count": 112,
     "metadata": {},
     "output_type": "execute_result"
    }
   ],
   "source": [
    "# Remove extra white spaces, punctuation and apply lower casing\n",
    "clean_twts['tweet'] = clean_twts['tweet'].str.lower().str.replace('[^\\w\\s]', ' ').str.replace('\\s\\s+', ' ')\n",
    "clean_twts.head()"
   ]
  },
  {
   "cell_type": "code",
   "execution_count": 113,
   "metadata": {},
   "outputs": [
    {
     "data": {
      "text/html": [
       "<div>\n",
       "<style scoped>\n",
       "    .dataframe tbody tr th:only-of-type {\n",
       "        vertical-align: middle;\n",
       "    }\n",
       "\n",
       "    .dataframe tbody tr th {\n",
       "        vertical-align: top;\n",
       "    }\n",
       "\n",
       "    .dataframe thead th {\n",
       "        text-align: right;\n",
       "    }\n",
       "</style>\n",
       "<table border=\"1\" class=\"dataframe\">\n",
       "  <thead>\n",
       "    <tr style=\"text-align: right;\">\n",
       "      <th></th>\n",
       "      <th>id</th>\n",
       "      <th>datetime</th>\n",
       "      <th>tweet</th>\n",
       "    </tr>\n",
       "  </thead>\n",
       "  <tbody>\n",
       "    <tr>\n",
       "      <th>0</th>\n",
       "      <td>1000000</td>\n",
       "      <td>6/27/2020 23:59</td>\n",
       "      <td>b rt please help cold blooded killer gunned ki...</td>\n",
       "    </tr>\n",
       "    <tr>\n",
       "      <th>1</th>\n",
       "      <td>1000002</td>\n",
       "      <td>6/27/2020 23:59</td>\n",
       "      <td>b rt hi it s over don t let over</td>\n",
       "    </tr>\n",
       "    <tr>\n",
       "      <th>2</th>\n",
       "      <td>1000006</td>\n",
       "      <td>6/27/2020 23:59</td>\n",
       "      <td>b rt stop treating communities therapy rage n ...</td>\n",
       "    </tr>\n",
       "    <tr>\n",
       "      <th>3</th>\n",
       "      <td>1000008</td>\n",
       "      <td>6/27/2020 23:59</td>\n",
       "      <td>b rt only protestors nationally actually black...</td>\n",
       "    </tr>\n",
       "    <tr>\n",
       "      <th>4</th>\n",
       "      <td>1000010</td>\n",
       "      <td>6/27/2020 23:59</td>\n",
       "      <td>b rt rational people believed all lives matter...</td>\n",
       "    </tr>\n",
       "  </tbody>\n",
       "</table>\n",
       "</div>"
      ],
      "text/plain": [
       "        id         datetime                                              tweet\n",
       "0  1000000  6/27/2020 23:59  b rt please help cold blooded killer gunned ki...\n",
       "1  1000002  6/27/2020 23:59                  b rt hi it s over don t let over \n",
       "2  1000006  6/27/2020 23:59  b rt stop treating communities therapy rage n ...\n",
       "3  1000008  6/27/2020 23:59  b rt only protestors nationally actually black...\n",
       "4  1000010  6/27/2020 23:59  b rt rational people believed all lives matter..."
      ]
     },
     "execution_count": 113,
     "metadata": {},
     "output_type": "execute_result"
    }
   ],
   "source": [
    "# Remove duplicate tweets again post processing\n",
    "clean_twts = clean_twts.drop_duplicates(subset='tweet', keep='first')\n",
    "clean_twts.head()"
   ]
  },
  {
   "cell_type": "code",
   "execution_count": 114,
   "metadata": {},
   "outputs": [
    {
     "data": {
      "text/plain": [
       "id          93638\n",
       "datetime    93638\n",
       "tweet       93638\n",
       "dtype: int64"
      ]
     },
     "execution_count": 114,
     "metadata": {},
     "output_type": "execute_result"
    }
   ],
   "source": [
    "clean_twts.count()"
   ]
  },
  {
   "cell_type": "code",
   "execution_count": 115,
   "metadata": {},
   "outputs": [],
   "source": [
    "#exporting\n",
    "clean_twts.to_csv ('clean_twts.csv', index = False, header=True)"
   ]
  },
  {
   "cell_type": "code",
   "execution_count": 116,
   "metadata": {},
   "outputs": [
    {
     "data": {
      "text/html": [
       "<div>\n",
       "<style scoped>\n",
       "    .dataframe tbody tr th:only-of-type {\n",
       "        vertical-align: middle;\n",
       "    }\n",
       "\n",
       "    .dataframe tbody tr th {\n",
       "        vertical-align: top;\n",
       "    }\n",
       "\n",
       "    .dataframe thead th {\n",
       "        text-align: right;\n",
       "    }\n",
       "</style>\n",
       "<table border=\"1\" class=\"dataframe\">\n",
       "  <thead>\n",
       "    <tr style=\"text-align: right;\">\n",
       "      <th></th>\n",
       "      <th>id</th>\n",
       "      <th>datetime</th>\n",
       "      <th>tweet</th>\n",
       "    </tr>\n",
       "  </thead>\n",
       "  <tbody>\n",
       "    <tr>\n",
       "      <th>0</th>\n",
       "      <td>1000000</td>\n",
       "      <td>6/27/2020 23:59</td>\n",
       "      <td>b rt please help cold blooded killer gunned ki...</td>\n",
       "    </tr>\n",
       "    <tr>\n",
       "      <th>1</th>\n",
       "      <td>1000002</td>\n",
       "      <td>6/27/2020 23:59</td>\n",
       "      <td>b rt hi it s over don t let over</td>\n",
       "    </tr>\n",
       "    <tr>\n",
       "      <th>2</th>\n",
       "      <td>1000006</td>\n",
       "      <td>6/27/2020 23:59</td>\n",
       "      <td>b rt stop treating communities therapy rage n ...</td>\n",
       "    </tr>\n",
       "    <tr>\n",
       "      <th>3</th>\n",
       "      <td>1000008</td>\n",
       "      <td>6/27/2020 23:59</td>\n",
       "      <td>b rt only protestors nationally actually black...</td>\n",
       "    </tr>\n",
       "    <tr>\n",
       "      <th>4</th>\n",
       "      <td>1000010</td>\n",
       "      <td>6/27/2020 23:59</td>\n",
       "      <td>b rt rational people believed all lives matter...</td>\n",
       "    </tr>\n",
       "  </tbody>\n",
       "</table>\n",
       "</div>"
      ],
      "text/plain": [
       "        id         datetime                                              tweet\n",
       "0  1000000  6/27/2020 23:59  b rt please help cold blooded killer gunned ki...\n",
       "1  1000002  6/27/2020 23:59                  b rt hi it s over don t let over \n",
       "2  1000006  6/27/2020 23:59  b rt stop treating communities therapy rage n ...\n",
       "3  1000008  6/27/2020 23:59  b rt only protestors nationally actually black...\n",
       "4  1000010  6/27/2020 23:59  b rt rational people believed all lives matter..."
      ]
     },
     "execution_count": 116,
     "metadata": {},
     "output_type": "execute_result"
    }
   ],
   "source": [
    "clean_twts.head()"
   ]
  },
  {
   "cell_type": "markdown",
   "metadata": {},
   "source": [
    "**<font color=\"blue\">Step 3: Uplaoding the clean_twts.csv to a SQLite database</font>**  \n",
    "\n",
    "**<font color=\"red\">Code:</font>**"
   ]
  },
  {
   "cell_type": "code",
   "execution_count": 121,
   "metadata": {},
   "outputs": [
    {
     "name": "stdout",
     "output_type": "stream",
     "text": [
      "Collecting csv-to-sqlite\n",
      "  Downloading csv_to_sqlite-2.1.0-py3-none-any.whl (5.6 kB)\n",
      "Requirement already satisfied: click in c:\\users\\prakh\\anaconda3\\lib\\site-packages (from csv-to-sqlite) (7.0)\n",
      "Installing collected packages: csv-to-sqlite\n",
      "Successfully installed csv-to-sqlite-2.1.0\n"
     ]
    }
   ],
   "source": [
    "!pip install csv-to-sqlite"
   ]
  },
  {
   "cell_type": "code",
   "execution_count": 123,
   "metadata": {},
   "outputs": [],
   "source": [
    "import csv_to_sqlite"
   ]
  },
  {
   "cell_type": "code",
   "execution_count": 138,
   "metadata": {},
   "outputs": [
    {
     "name": "stdout",
     "output_type": "stream",
     "text": [
      "Error on table clean_twts.csv: \n",
      " table [clean_twts] already exists\n",
      "Written 0 rows into 1 tables in 0.209 seconds\n"
     ]
    }
   ],
   "source": [
    "options = csv_to_sqlite.CsvOptions(typing_style=\"full\", encoding=\"windows-1250\") \n",
    "input_files = [\"clean_twts.csv\"] # pass in the CSV file\n",
    "csv_to_sqlite.write_csv(input_files, \"clean_twts.sqlite\", options)"
   ]
  },
  {
   "cell_type": "markdown",
   "metadata": {},
   "source": [
    "**<font color=\"blue\">Step 4: Using tweets from SQLite database and passing them through IBM Watson Tone Analyzer </font>**  \n",
    "\n",
    "**<font color=\"red\">Code:</font>**"
   ]
  },
  {
   "cell_type": "code",
   "execution_count": 139,
   "metadata": {},
   "outputs": [],
   "source": [
    "import sqlite3"
   ]
  },
  {
   "cell_type": "code",
   "execution_count": 140,
   "metadata": {},
   "outputs": [],
   "source": [
    "conn = sqlite3.connect(\"clean_twts.sqlite\")"
   ]
  },
  {
   "cell_type": "code",
   "execution_count": 141,
   "metadata": {},
   "outputs": [
    {
     "name": "stdout",
     "output_type": "stream",
     "text": [
      "[('clean_twts',)]\n"
     ]
    }
   ],
   "source": [
    "# find out the table name in the database\n",
    "def sql_fetch(conn):\n",
    "\n",
    "    cursorObj = conn.cursor()\n",
    "\n",
    "    cursorObj.execute('SELECT name from sqlite_master where type= \"table\"')\n",
    "\n",
    "    print(cursorObj.fetchall())\n",
    "\n",
    "sql_fetch(conn)"
   ]
  },
  {
   "cell_type": "code",
   "execution_count": 142,
   "metadata": {},
   "outputs": [],
   "source": [
    "#create a tweets dataframe from the database:\n",
    "tweetsdf = pd.read_sql_query(\"SELECT * FROM clean_twts\", conn)"
   ]
  },
  {
   "cell_type": "code",
   "execution_count": 136,
   "metadata": {},
   "outputs": [
    {
     "data": {
      "text/html": [
       "<div>\n",
       "<style scoped>\n",
       "    .dataframe tbody tr th:only-of-type {\n",
       "        vertical-align: middle;\n",
       "    }\n",
       "\n",
       "    .dataframe tbody tr th {\n",
       "        vertical-align: top;\n",
       "    }\n",
       "\n",
       "    .dataframe thead th {\n",
       "        text-align: right;\n",
       "    }\n",
       "</style>\n",
       "<table border=\"1\" class=\"dataframe\">\n",
       "  <thead>\n",
       "    <tr style=\"text-align: right;\">\n",
       "      <th></th>\n",
       "      <th>id</th>\n",
       "      <th>datetime</th>\n",
       "      <th>tweet</th>\n",
       "    </tr>\n",
       "  </thead>\n",
       "  <tbody>\n",
       "    <tr>\n",
       "      <th>0</th>\n",
       "      <td>1000000</td>\n",
       "      <td>6/27/2020 23:59</td>\n",
       "      <td>b rt please help cold blooded killer gunned ki...</td>\n",
       "    </tr>\n",
       "    <tr>\n",
       "      <th>1</th>\n",
       "      <td>1000002</td>\n",
       "      <td>6/27/2020 23:59</td>\n",
       "      <td>b rt hi it s over don t let over</td>\n",
       "    </tr>\n",
       "    <tr>\n",
       "      <th>2</th>\n",
       "      <td>1000006</td>\n",
       "      <td>6/27/2020 23:59</td>\n",
       "      <td>b rt stop treating communities therapy rage n ...</td>\n",
       "    </tr>\n",
       "    <tr>\n",
       "      <th>3</th>\n",
       "      <td>1000008</td>\n",
       "      <td>6/27/2020 23:59</td>\n",
       "      <td>b rt only protestors nationally actually black...</td>\n",
       "    </tr>\n",
       "    <tr>\n",
       "      <th>4</th>\n",
       "      <td>1000010</td>\n",
       "      <td>6/27/2020 23:59</td>\n",
       "      <td>b rt rational people believed all lives matter...</td>\n",
       "    </tr>\n",
       "  </tbody>\n",
       "</table>\n",
       "</div>"
      ],
      "text/plain": [
       "        id         datetime                                              tweet\n",
       "0  1000000  6/27/2020 23:59  b rt please help cold blooded killer gunned ki...\n",
       "1  1000002  6/27/2020 23:59                  b rt hi it s over don t let over \n",
       "2  1000006  6/27/2020 23:59  b rt stop treating communities therapy rage n ...\n",
       "3  1000008  6/27/2020 23:59  b rt only protestors nationally actually black...\n",
       "4  1000010  6/27/2020 23:59  b rt rational people believed all lives matter..."
      ]
     },
     "execution_count": 136,
     "metadata": {},
     "output_type": "execute_result"
    }
   ],
   "source": [
    "tweetsdf.head()"
   ]
  },
  {
   "cell_type": "code",
   "execution_count": null,
   "metadata": {},
   "outputs": [],
   "source": []
  }
 ],
 "metadata": {
  "kernelspec": {
   "display_name": "Python 3",
   "language": "python",
   "name": "python3"
  },
  "language_info": {
   "codemirror_mode": {
    "name": "ipython",
    "version": 3
   },
   "file_extension": ".py",
   "mimetype": "text/x-python",
   "name": "python",
   "nbconvert_exporter": "python",
   "pygments_lexer": "ipython3",
   "version": "3.7.6"
  }
 },
 "nbformat": 4,
 "nbformat_minor": 4
}
